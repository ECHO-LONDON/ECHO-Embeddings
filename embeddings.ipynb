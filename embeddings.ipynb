{
  "nbformat": 4,
  "nbformat_minor": 0,
  "metadata": {
    "colab": {
      "provenance": []
    },
    "kernelspec": {
      "name": "python3",
      "display_name": "Python 3"
    },
    "language_info": {
      "name": "python"
    }
  },
  "cells": [
    {
      "cell_type": "code",
      "execution_count": null,
      "metadata": {
        "id": "x6XEGhVcgOVj"
      },
      "outputs": [],
      "source": [
        "from openai import OpenAI\n",
        "client = OpenAI(api_key='sk-REDACTED')\n",
        "\n",
        "def get_em(text):\n",
        "  response = client.embeddings.create(\n",
        "    input=text,\n",
        "    model=\"text-embedding-3-small\"\n",
        "  )\n",
        "\n",
        "  return response.data[0].embedding\n"
      ]
    },
    {
      "cell_type": "code",
      "source": [
        "import numpy as np\n",
        "\n",
        "def distance_between_vectors(v1, v2):\n",
        "    # Ensure that the vectors are numpy arrays for element-wise operations\n",
        "    v1 = np.array(v1)\n",
        "    v2 = np.array(v2)\n",
        "    # Calculate the difference vector\n",
        "    diff = v2 - v1\n",
        "    # Calculate the square of each element of the difference vector\n",
        "    sq_diff = diff ** 2\n",
        "    # Sum all the squared differences\n",
        "    sum_sq_diff = np.sum(sq_diff)\n",
        "    # Take the square root of the sum to get the distance\n",
        "    distance = np.sqrt(sum_sq_diff)\n",
        "    return distance"
      ],
      "metadata": {
        "id": "3D_BX7RAgVyW"
      },
      "execution_count": null,
      "outputs": []
    },
    {
      "cell_type": "code",
      "source": [
        "import pandas as pd\n",
        "\n",
        "# Replace 'your_file.csv' with the path to your CSV file\n",
        "df = pd.read_csv('combined_data.csv')\n",
        "topic = df[[\"search\"]]\n",
        "content = df[[\"content\"]]"
      ],
      "metadata": {
        "id": "6TVCOgM4g27X"
      },
      "execution_count": null,
      "outputs": []
    },
    {
      "cell_type": "code",
      "source": [
        "topics_list = [\"how throwing a deck of cards inside the toilet\", \"science\", \"politics\", \"technology\", \"solana news\", \"machine learning\", \"computer vision\", \"global warming\", \"international space station\"]\n",
        "\n",
        "for i in topics_list:\n",
        "  emb = get_em(topics_list)\n",
        "  topics_embeddings[i] = emb\n",
        "  print(i)\n",
        "  break\n",
        "topics_embeddings"
      ],
      "metadata": {
        "id": "E3GWFM6xh0EP"
      },
      "execution_count": null,
      "outputs": []
    },
    {
      "cell_type": "code",
      "source": [
        "df[\"dist\"]"
      ],
      "metadata": {
        "id": "znVGan9AkZb5"
      },
      "execution_count": null,
      "outputs": []
    },
    {
      "cell_type": "code",
      "source": [
        "import seaborn as sns\n",
        "\n",
        "# sns.displot(wtf, bins=500)\n",
        "# sns.displot(uk, bins=500)\n",
        "# sns.displot(skib, bins=500)\n",
        "# sns.displot(dist_science, bins=500)\n",
        "# sns.displot(dist_politics, bins=500)\n",
        "sns.displot(df[\"dist\"], bins=500)\n",
        "sns.displot(scliced_df[\"dist\"], bins=500)\n"
      ],
      "metadata": {
        "colab": {
          "base_uri": "https://localhost:8080/",
          "height": 1000
        },
        "id": "1RUgRxTfkojL",
        "outputId": "ec626606-6b48-4608-a782-13a7271434c8"
      },
      "execution_count": null,
      "outputs": [
        {
          "output_type": "execute_result",
          "data": {
            "text/plain": [
              "<seaborn.axisgrid.FacetGrid at 0x7c3faa44ed40>"
            ]
          },
          "metadata": {},
          "execution_count": 82
        },
        {
          "output_type": "display_data",
          "data": {
            "text/plain": [
              "<Figure size 500x500 with 1 Axes>"
            ],
            "image/png": "[encoded data removed]"
          },
          "metadata": {}
        },
        {
          "output_type": "display_data",
          "data": {
            "text/plain": [
              "<Figure size 500x500 with 1 Axes>"
            ],
            "image/png": "[encoded data removed]"
          },
          "metadata": {}
        }
      ]
    },
    {
      "cell_type": "code",
      "source": [
        "sns.displot(df[\"dist\"], bins=500)"
      ],
      "metadata": {
        "id": "759sRXcTtCL7"
      },
      "execution_count": null,
      "outputs": []
    },
    {
      "cell_type": "code",
      "source": [
        "df = df.sort_values(by='dist', ascending=True)"
      ],
      "metadata": {
        "id": "z_wwuflTnv9Q"
      },
      "execution_count": null,
      "outputs": []
    },
    {
      "cell_type": "code",
      "source": [
        "scliced_df = df[0:-1800]"
      ],
      "metadata": {
        "id": "nKwPmMatn8E2"
      },
      "execution_count": null,
      "outputs": []
    },
    {
      "cell_type": "code",
      "source": [
        "df['text_emb'] = None"
      ],
      "metadata": {
        "id": "YGM7BKQuq_5k"
      },
      "execution_count": null,
      "outputs": []
    },
    {
      "cell_type": "code",
      "source": [
        "import time\n",
        "start = time.time()\n",
        "for index, row in df.iterrows():\n",
        "  if df[\"dist\"][index] != None:\n",
        "    continue\n",
        "  try: topic_emb = topics_embeddings[row[\"search\"]]\n",
        "  except: topic_emb = get_em(row[\"search\"]); topics_embeddings[row[\"search\"]] = topic_emb\n",
        "  text_emb = get_em(row[\"content\"])\n",
        "  dist = distance_between_vectors(topic_emb, text_emb)\n",
        "  df[\"dist\"][index] = dist\n",
        "end = time.time()\n",
        "print(f'programm took {end-start} seconds for 2000 requests')\n",
        "df.head()"
      ],
      "metadata": {
        "id": "R61IyyJ7ijow"
      },
      "execution_count": null,
      "outputs": []
    },
    {
      "cell_type": "code",
      "source": [
        "wtf = []\n",
        "start = time.time()\n",
        "for index, row in df.iterrows():\n",
        "  topic_emb = topics_embeddings[topics_list[0]]\n",
        "  text_emb = df['text_emb'][index]\n",
        "  dist = distance_between_vectors(topic_emb, text_emb)\n",
        "  wtf.append(dist)\n",
        "time.time() - start"
      ],
      "metadata": {
        "colab": {
          "base_uri": "https://localhost:8080/"
        },
        "id": "d9HcLOpSqm53",
        "outputId": "7062b1f6-16c0-496c-d097-62a8253b7b3c"
      },
      "execution_count": null,
      "outputs": [
        {
          "output_type": "execute_result",
          "data": {
            "text/plain": [
              "0.9400365352630615"
            ]
          },
          "metadata": {},
          "execution_count": 80
        }
      ]
    },
    {
      "cell_type": "code",
      "source": [],
      "metadata": {
        "id": "io6I5d84ms_H"
      },
      "execution_count": null,
      "outputs": []
    }
  ]
}